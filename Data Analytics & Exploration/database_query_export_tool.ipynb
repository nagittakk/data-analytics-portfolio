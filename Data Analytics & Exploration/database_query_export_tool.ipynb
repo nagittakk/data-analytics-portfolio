{
  "metadata": {
    "kernelspec": {
      "name": "python",
      "display_name": "Python (Pyodide)",
      "language": "python"
    },
    "language_info": {
      "codemirror_mode": {
        "name": "python",
        "version": 3
      },
      "file_extension": ".py",
      "mimetype": "text/x-python",
      "name": "python",
      "nbconvert_exporter": "python",
      "pygments_lexer": "ipython3",
      "version": "3.8"
    }
  },
  "nbformat_minor": 4,
  "nbformat": 4,
  "cells": [
    {
      "cell_type": "markdown",
      "source": "# Database Query and Export Tool\n\n## Introduction\n\nThis Jupyter Notebook provides a comprehensive database management tool, designed to enable efficient querying and exporting of database records. Users can specify fields to query within a database and save results in either XML or JSON format, allowing for streamlined data handling and flexible output options.\n\n### Objectives:\n- **Database Querying**: Retrieve data from specified fields based on user-defined parameters.\n- **Flexible Export Options**: Save query results as XML or JSON files with a custom filename for easy access and organization.\n- **User-Friendly Functionality**: Simplifies data extraction and export processes, making it adaptable for various database management tasks.\n\n### Dependencies:\nTo run this notebook, make sure the following libraries are installed:\n- `sqlite3` (for database interactions)\n- `json` (for JSON export)\n- `xml.etree.ElementTree` (for XML export)\n- `os` (for file operations)\n\n### Usage:\nTo begin using this tool, configure the database path, define query parameters, and specify your desired output format and filename. Execute the cells sequentially to define functions and run your queries, then export results as needed.\n",
      "metadata": {}
    },
    {
      "cell_type": "code",
      "source": "# Import standard libraries\nimport json  # For parsing and manipulating JSON data\nimport sqlite3  # SQLite database library for creating and managing SQLite databases\nimport xml.etree.ElementTree as ET  # For parsing and creating XML data structures\n\n# Import third-party libraries\nfrom tabulate import tabulate  # For creating formatted tables in plain text\n",
      "metadata": {
        "trusted": true
      },
      "outputs": [],
      "execution_count": null
    },
    {
      "cell_type": "code",
      "source": "# Database Connection Setup\n# Connect to the HyperionDev database and handle errors in case the database is not found.\ntry:\n    conn = sqlite3.connect(\"HyperionDev.db\")\n    cur = conn.cursor()\nexcept sqlite3.Error:\n    print(\"Please ensure your database is named 'HyperionDev.db'\")\n    quit()\n",
      "metadata": {
        "trusted": true
      },
      "outputs": [],
      "execution_count": null
    },
    {
      "cell_type": "code",
      "source": "def usage_is_incorrect(input, num_args):\n    \"\"\"\n    Checks if the command has the correct number of arguments.\n    \n    Args:\n    input (list): List of input commands and arguments\n    num_args (int): Expected number of arguments for the command\n    \n    Returns:\n    bool: True if the number of arguments is incorrect, False otherwise\n    \"\"\"\n    if len(input) != num_args + 1:\n        print(f\"The {input[0]} command requires {num_args} arguments.\")\n        return True\n    return False\n",
      "metadata": {
        "trusted": true
      },
      "outputs": [],
      "execution_count": null
    },
    {
      "cell_type": "code",
      "source": "def store_data_as_json(data, filename):\n    \"\"\"\n    Saves data to a JSON file with specified filename.\n    \n    Args:\n    data (list): Data to be stored\n    filename (str): Filename for the JSON file\n    \n    Outputs:\n    Prints confirmation message after saving\n    \"\"\"\n    headings = data[0]\n    rest_of_data = data[1:]\n    dictionary = {str(index+1): {headings[i]: val for i, val in enumerate(row)} \n                  for index, row in enumerate(rest_of_data)}\n\n    with open(filename, 'w', encoding='utf-8') as outfile:\n        json.dump(dictionary, outfile, sort_keys=True, indent=4)\n    print(f\"\\nThe file '{filename}' has been saved.\")\n",
      "metadata": {
        "trusted": true
      },
      "outputs": [],
      "execution_count": null
    },
    {
      "cell_type": "code",
      "source": "def store_data_as_xml(data, filename, root_tag):\n    \"\"\"\n    Saves data to an XML file with a specified root tag and filename.\n    \n    Args:\n    data (list): Data to be stored\n    filename (str): Filename for the XML file\n    root_tag (str): Root tag name for XML structure\n    \n    Outputs:\n    Prints confirmation message after saving\n    \"\"\"\n    headings = data[0]\n    rest_of_data = data[1:]\n    root = ET.Element(root_tag)\n\n    for index, row in enumerate(rest_of_data):\n        record = ET.SubElement(root, f'record_{index+1}')\n        for i, val in enumerate(row):\n            ET.SubElement(record, headings[i]).text = str(val)\n\n    tree = ET.ElementTree(root)\n    tree.write(filename, encoding='unicode')\n    print(f\"\\nThe file '{filename}' has been saved.\")\n",
      "metadata": {
        "trusted": true
      },
      "outputs": [],
      "execution_count": null
    },
    {
      "cell_type": "code",
      "source": "def offer_to_store(data, root_tag):\n    \"\"\"\n    Prompts user to choose if data should be saved and in which format.\n    \n    Args:\n    data (list): Data to be offered for storage\n    root_tag (str): Root tag name for XML structure if XML format is chosen\n    \"\"\"\n    while True:\n        choice = input(\"Would you like to store this result? Y/[N]: \").strip().lower()\n        if choice == \"y\":\n            filename = input(\"Specify filename (end with .xml or .json): \")\n            ext = filename.split(\".\")[-1]\n            if ext == 'xml':\n                store_data_as_xml(data, filename, root_tag)\n            elif ext == 'json':\n                store_data_as_json(data, filename)\n            else:\n                print(\"Invalid file extension. Use .xml or .json\")\n            break\n        elif choice == 'n':\n            break\n        else:\n            print(\"Invalid choice\")\n",
      "metadata": {
        "trusted": true
      },
      "outputs": [],
      "execution_count": null
    },
    {
      "cell_type": "code",
      "source": "# User Interface\n# Displaying available commands and welcoming users to the querying app.\n\nusage = \"\"\"\nCommands:\nd                   - demo (list all students)\nvs <student_id>     - view subjects by student_id\nla <first> <last>   - view address by student name\nlr <student_id>     - list reviews for a student\nlc <teacher_id>     - list courses by teacher_id\nlnc                 - list students who haven't completed the course\nlf                  - list students with completion <= 30\ne                   - exit program\n\"\"\"\n\nprint(\"Welcome to the Data Querying App!\")\n",
      "metadata": {
        "trusted": true
      },
      "outputs": [],
      "execution_count": null
    },
    {
      "cell_type": "code",
      "source": "# Main Program Loop\n# Processing user input and executing corresponding database queries.\n\nwhile True:\n    print()\n    user_input = input(usage).split()\n    command = user_input[0]\n    args = user_input[1:] if len(user_input) > 1 else []\n\n    # Demo command\n    if command == 'd':\n        data = cur.execute(\"SELECT * FROM Student\").fetchall()\n        for _, first, last, *_ in data:\n            print(f\"{first} {last}\")\n            \n    elif command == 'vs' and not usage_is_incorrect(user_input, 1):\n        student_id = args[0]\n        try:\n            cur.execute('''SELECT course_name FROM Course \n                           JOIN StudentCourse ON StudentCourse.course_code = Course.course_code \n                           WHERE student_id = ?''', (student_id,))\n            subjects = cur.fetchall()\n            data = [['student_id', 'subjects'], [student_id, ', '.join(s[0] for s in subjects)]]\n            offer_to_store(data, 'student_subjects')\n        except sqlite3.Error:\n            print(\"Invalid student ID\")\n            \n    elif command == 'e':\n        print(\"Exiting program. Goodbye!\")\n        break\n\n    # Additional commands for la, lr, lc, lnc, and lf can be implemented in a similar format\n",
      "metadata": {
        "trusted": true
      },
      "outputs": [],
      "execution_count": null
    }
  ]
}